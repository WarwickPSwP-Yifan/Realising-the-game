{
 "cells": [
  {
   "cell_type": "code",
   "execution_count": null,
   "id": "27f44b63",
   "metadata": {},
   "outputs": [
    {
     "name": "stdout",
     "output_type": "stream",
     "text": [
      "please input the size of the grid3\n",
      "[[2. 2. 2.]\n",
      " [2. 2. 2.]\n",
      " [2. 2. 2.]]\n",
      "Who starts first, Human, or Bot?Human\n",
      "This is the turn of Human\n",
      "Please input the ROW in the grid you want to place 0(0 to n-1)2\n",
      "Please input the Column in the grid you want to place 0(0 to n-1)2\n",
      "[[2. 2. 2.]\n",
      " [2. 2. 2.]\n",
      " [2. 2. 0.]]\n",
      "This is the turn of Bot\n",
      "[[2. 2. 1.]\n",
      " [2. 2. 2.]\n",
      " [2. 2. 0.]]\n",
      "This is the turn of Human\n",
      "Please input the ROW in the grid you want to place 0(0 to n-1)1\n",
      "Please input the Column in the grid you want to place 0(0 to n-1)1\n",
      "[[2. 2. 1.]\n",
      " [2. 0. 2.]\n",
      " [2. 2. 0.]]\n",
      "This is the turn of Bot\n",
      "[[2. 2. 1.]\n",
      " [2. 0. 1.]\n",
      " [2. 2. 0.]]\n",
      "This is the turn of Human\n"
     ]
    }
   ],
   "source": [
    "#This code is based and inspired by the example of python course last week. It realises the game.\n",
    "import numpy as np\n",
    "import scipy.linalg as LA\n",
    "import sympy as sp\n",
    "#Inspired by the stick game last week\n",
    "n=int(input('please input the size of the grid'))\n",
    "matrix=np.zeros((n,n))#I first use a 0-matrix as initial matrix, but that leads to a misunderstanding\n",
    "matrix[matrix == 0] = 2# Use 2 as a placeholder\n",
    "print(matrix)\n",
    "#Here I prooduce a all_0_matrix, 0 here as a placeholder, to reduce misunderstanding, following step will ask user to re-fill 0 where they want to place.\n",
    "\n",
    "def verify(a, k):# This is for verify if the coordinate has been used or not\n",
    "    while a in k:\n",
    "        print(a, 'is used')\n",
    "        i=int(input('Please input the ROW in the grid you want to place 0(1 to n)'))-1\n",
    "        j=int(input('Please input the Column in the grid you want to place 0(1 to n)'))-1\n",
    "        a=(i,j)\n",
    "    return a\n",
    "\n",
    "def game(player):\n",
    "    Used_Coordinate=set()# create an empty set to place the coordinate that used \n",
    "    i=0\n",
    "    i=i+1\n",
    "    while len(Used_Coordinate)<n*n:\n",
    "        #I tried to follow the thought of programming brfore, but under while true, not able to use, hence I use another way to prevent overflow \n",
    "        print('This is the turn of',player) \n",
    "        if player=='Human':\n",
    "            take_Row=int(input('Please input the ROW in the grid you want to place 0(0 to n-1)'))\n",
    "            take_Column=int(input('Please input the Column in the grid you want to place 0(0 to n-1)'))\n",
    "            coordinate=(take_Row, take_Column)# Uniformly using base_0 coordinate\n",
    "            valid_coordinate = verify(coordinate, Used_Coordinate)\n",
    "            Used_Coordinate.add(valid_coordinate)\n",
    "            # place the coordinate used into my set\n",
    "        #user then can straightly input from 1 to n instead starts from 0\n",
    "            matrix[take_Row][take_Column]=0\n",
    "        \n",
    "        if player=='Bot':\n",
    "            while True:\n",
    "                take_Row = np.random.randint(0,n)\n",
    "                take_Column= np.random.randint(0,n)\n",
    "                Bot_coordinate=(take_Row,take_Column)\n",
    "                if Bot_coordinate not in Used_Coordinate:\n",
    "                    matrix[take_Row][take_Column] = 1\n",
    "                    Used_Coordinate.add(Bot_coordinate)\n",
    "                    break\n",
    "        print(matrix)\n",
    "        player = \"Bot\" if player == \"Human\" else \"Human\"\n",
    "    if LA.det(matrix)==0:\n",
    "        print('You Win!')\n",
    "    else:\n",
    "        print('You Lose!')\n",
    "        \n",
    "x=input('Who starts first, Human, or Bot?')\n",
    "game(x)"
   ]
  },
  {
   "cell_type": "code",
   "execution_count": null,
   "id": "ad64c3cb",
   "metadata": {},
   "outputs": [],
   "source": []
  }
 ],
 "metadata": {
  "kernelspec": {
   "display_name": "Python 3 (ipykernel)",
   "language": "python",
   "name": "python3"
  },
  "language_info": {
   "codemirror_mode": {
    "name": "ipython",
    "version": 3
   },
   "file_extension": ".py",
   "mimetype": "text/x-python",
   "name": "python",
   "nbconvert_exporter": "python",
   "pygments_lexer": "ipython3",
   "version": "3.11.5"
  }
 },
 "nbformat": 4,
 "nbformat_minor": 5
}
